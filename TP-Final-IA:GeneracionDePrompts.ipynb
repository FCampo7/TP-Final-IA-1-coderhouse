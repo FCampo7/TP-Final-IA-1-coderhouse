{
 "cells": [
  {
   "cell_type": "markdown",
   "id": "f0086e54",
   "metadata": {},
   "source": [
    "# Trabajo Final - IA: Generación de Prompts\n",
    "ejemplo de tp: https://github.com/jepeloa/tp_final_coder_PE/blob/main/Trabajo_final_coder.ipynb"
   ]
  },
  {
   "cell_type": "code",
   "execution_count": 8,
   "id": "24887755",
   "metadata": {},
   "outputs": [
    {
     "name": "stdout",
     "output_type": "stream",
     "text": [
      "API Key: secret\n"
     ]
    }
   ],
   "source": [
    "from dotenv import load_dotenv\n",
    "import os\n",
    "\n",
    "load_dotenv(\".env\")\n",
    "\n",
    "api_key = os.getenv(\"API_KEY\")\n",
    "if not api_key:\n",
    "    raise ValueError(\"API_KEY environment variable is not set.\")\n",
    "\n",
    "print(f\"API Key: {api_key}\")"
   ]
  }
 ],
 "metadata": {
  "kernelspec": {
   "display_name": "Python 3",
   "language": "python",
   "name": "python3"
  },
  "language_info": {
   "codemirror_mode": {
    "name": "ipython",
    "version": 3
   },
   "file_extension": ".py",
   "mimetype": "text/x-python",
   "name": "python",
   "nbconvert_exporter": "python",
   "pygments_lexer": "ipython3",
   "version": "3.13.5"
  }
 },
 "nbformat": 4,
 "nbformat_minor": 5
}
